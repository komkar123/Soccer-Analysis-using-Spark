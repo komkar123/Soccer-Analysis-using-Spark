{
 "cells": [
  {
   "cell_type": "code",
   "execution_count": 30,
   "metadata": {},
   "outputs": [],
   "source": [
    "from pyspark.sql import SparkSession\n",
    "import sqlite3\n",
    "import pandas as pd\n",
    "import numpy as np\n",
    "from pyspark.sql.functions import *"
   ]
  },
  {
   "cell_type": "code",
   "execution_count": 2,
   "metadata": {},
   "outputs": [],
   "source": [
    "\"\"\"\n",
    "Connecting to SQLite database\n",
    "\"\"\"\n",
    "\n",
    "conn = sqlite3.connect(\"database.sqlite\")\n",
    "cur = conn.cursor()"
   ]
  },
  {
   "cell_type": "code",
   "execution_count": 3,
   "metadata": {},
   "outputs": [],
   "source": [
    "\"\"\"\n",
    "Reading tables and storing them into pandas dataframe\n",
    "\"\"\"\n",
    "\n",
    "ply_attr=pd.read_sql_query(\"Select * from Player_Attributes\",conn)\n",
    "ply=pd.read_sql_query(\"Select * from Player\",conn)\n",
    "country=pd.read_sql_query(\"Select * from Country\",conn)\n",
    "league=pd.read_sql_query(\"Select * from League\",conn)\n",
    "match=pd.read_sql_query(\"Select * from Match\",conn)\n",
    "team=pd.read_sql_query(\"Select * from Team\",conn)\n",
    "team_attr=pd.read_sql_query(\"Select * from Team_Attributes\",conn)"
   ]
  },
  {
   "cell_type": "code",
   "execution_count": 4,
   "metadata": {},
   "outputs": [],
   "source": [
    "spark = SparkSession \\\n",
    "    .builder \\\n",
    "    .appName(\"Soccer\") \\\n",
    "    .getOrCreate()"
   ]
  },
  {
   "cell_type": "code",
   "execution_count": 5,
   "metadata": {},
   "outputs": [],
   "source": [
    "plyr_attr=spark.createDataFrame(ply_attr)\n",
    "plyr=spark.createDataFrame(ply)\n",
    "coun=spark.createDataFrame(country)\n",
    "leag=spark.createDataFrame(league)\n",
    "mat=spark.createDataFrame(match)\n",
    "teams=spark.createDataFrame(team)\n",
    "team_attrs=spark.createDataFrame(team_attr)"
   ]
  },
  {
   "cell_type": "code",
   "execution_count": 25,
   "metadata": {},
   "outputs": [],
   "source": [
    "xply=plyr_attr.select(plyr_attr.columns[:6])\n",
    "yply=plyr_attr.select(['id','stamina','strength'])\n",
    "\n",
    "xply=xply.alias('xply')\n",
    "yply=yply.alias('yply')\n",
    "\n",
    "df_plyr=xply.join(yply,xply.id==yply.id).select(\"xply.id\",\"player_fifa_api_id\",\"player_api_id\",\"date\",\"overall_rating\", \\\n",
    "                                               \"potential\",\"stamina\",\"strength\")"
   ]
  },
  {
   "cell_type": "code",
   "execution_count": 46,
   "metadata": {},
   "outputs": [
    {
     "name": "stdout",
     "output_type": "stream",
     "text": [
      "+---+------------------+-------------+----+--------------+---------+-------+--------+\n",
      "| id|player_fifa_api_id|player_api_id|date|overall_rating|potential|stamina|strength|\n",
      "+---+------------------+-------------+----+--------------+---------+-------+--------+\n",
      "+---+------------------+-------------+----+--------------+---------+-------+--------+\n",
      "\n"
     ]
    }
   ],
   "source": [
    "#df_plyr.select([(when(isnull(c), c)).alias(c) for c in df_plyr.columns]).show()\n",
    "df_plyr.where(col('stamina').isNull()).show()"
   ]
  }
 ],
 "metadata": {
  "kernelspec": {
   "display_name": "Python 3",
   "language": "python",
   "name": "python3"
  },
  "language_info": {
   "codemirror_mode": {
    "name": "ipython",
    "version": 3
   },
   "file_extension": ".py",
   "mimetype": "text/x-python",
   "name": "python",
   "nbconvert_exporter": "python",
   "pygments_lexer": "ipython3",
   "version": "3.7.7"
  }
 },
 "nbformat": 4,
 "nbformat_minor": 4
}
