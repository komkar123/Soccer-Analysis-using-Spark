{
 "cells": [
  {
   "cell_type": "code",
   "execution_count": 1,
   "metadata": {},
   "outputs": [],
   "source": [
    "from pyspark.sql import SparkSession\n",
    "import sqlite3\n",
    "import pandas as pd\n",
    "import numpy as np"
   ]
  },
  {
   "cell_type": "code",
   "execution_count": 12,
   "metadata": {},
   "outputs": [],
   "source": [
    "\"\"\"\n",
    "Connecting to SQLite database\n",
    "\"\"\"\n",
    "\n",
    "conn = sqlite3.connect(\"database.sqlite\")\n",
    "cur = conn.cursor()"
   ]
  },
  {
   "cell_type": "code",
   "execution_count": 13,
   "metadata": {},
   "outputs": [],
   "source": [
    "\"\"\"\n",
    "Reading tables and storing them into pandas dataframe\n",
    "\"\"\"\n",
    "\n",
    "ply_attr=pd.read_sql_query(\"Select * from Player_Attributes\",conn)\n",
    "ply=pd.read_sql_query(\"Select * from Player\",conn)\n",
    "country=pd.read_sql_query(\"Select * from Country\",conn)\n",
    "league=pd.read_sql_query(\"Select * from League\",conn)\n",
    "match=pd.read_sql_query(\"Select * from Match\",conn)\n",
    "team=pd.read_sql_query(\"Select * from Team\",conn)\n",
    "team_attr=pd.read_sql_query(\"Select * from Team_Attributes\",conn)"
   ]
  },
  {
   "cell_type": "code",
   "execution_count": 9,
   "metadata": {},
   "outputs": [],
   "source": [
    "spark = SparkSession \\\n",
    "    .builder \\\n",
    "    .appName(\"Soccer\") \\\n",
    "    .getOrCreate()"
   ]
  },
  {
   "cell_type": "code",
   "execution_count": null,
   "metadata": {},
   "outputs": [],
   "source": []
  }
 ],
 "metadata": {
  "kernelspec": {
   "display_name": "Python 3",
   "language": "python",
   "name": "python3"
  },
  "language_info": {
   "codemirror_mode": {
    "name": "ipython",
    "version": 3
   },
   "file_extension": ".py",
   "mimetype": "text/x-python",
   "name": "python",
   "nbconvert_exporter": "python",
   "pygments_lexer": "ipython3",
   "version": "3.7.6"
  }
 },
 "nbformat": 4,
 "nbformat_minor": 4
}
