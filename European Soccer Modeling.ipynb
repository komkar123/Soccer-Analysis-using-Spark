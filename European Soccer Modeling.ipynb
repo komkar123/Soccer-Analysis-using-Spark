{
 "cells": [
  {
   "cell_type": "code",
   "execution_count": 4,
   "metadata": {},
   "outputs": [],
   "source": [
    "from pyspark.sql import SparkSession\n",
    "import sqlite3\n",
    "import pandas as pd\n",
    "import numpy as np\n",
    "from pyspark.sql.functions import *"
   ]
  },
  {
   "cell_type": "code",
   "execution_count": 5,
   "metadata": {},
   "outputs": [],
   "source": [
    "\"\"\"\n",
    "Connecting to SQLite database\n",
    "\"\"\"\n",
    "\n",
    "conn = sqlite3.connect(\"database.sqlite\")\n",
    "cur = conn.cursor()"
   ]
  },
  {
   "cell_type": "code",
   "execution_count": 6,
   "metadata": {},
   "outputs": [],
   "source": [
    "\"\"\"\n",
    "Reading tables and storing them into pandas dataframe\n",
    "\"\"\"\n",
    "\n",
    "ply_attr=pd.read_sql_query(\"Select * from Player_Attributes\",conn)\n",
    "ply=pd.read_sql_query(\"Select * from Player\",conn)\n",
    "country=pd.read_sql_query(\"Select * from Country\",conn)\n",
    "league=pd.read_sql_query(\"Select * from League\",conn)\n",
    "match=pd.read_sql_query(\"Select * from Match\",conn)\n",
    "team=pd.read_sql_query(\"Select * from Team\",conn)\n",
    "team_attr=pd.read_sql_query(\"Select * from Team_Attributes\",conn)"
   ]
  },
  {
   "cell_type": "code",
   "execution_count": 7,
   "metadata": {},
   "outputs": [],
   "source": [
    "spark = SparkSession \\\n",
    "    .builder \\\n",
    "    .appName(\"Soccer\") \\\n",
    "    .getOrCreate()"
   ]
  },
  {
   "cell_type": "code",
   "execution_count": 8,
   "metadata": {},
   "outputs": [],
   "source": [
    "plyr_attr=spark.createDataFrame(ply_attr)\n",
    "plyr=spark.createDataFrame(ply)\n",
    "coun=spark.createDataFrame(country)\n",
    "leag=spark.createDataFrame(league)\n",
    "mat=spark.createDataFrame(match)\n",
    "teams=spark.createDataFrame(team)\n",
    "team_attrs=spark.createDataFrame(team_attr)"
   ]
  },
  {
   "cell_type": "code",
   "execution_count": 9,
   "metadata": {},
   "outputs": [],
   "source": [
    "xply=plyr_attr.select(plyr_attr.columns[:6])\n",
    "yply=plyr_attr.select(['id','stamina','strength'])\n",
    "\n",
    "xply=xply.alias('xply')\n",
    "yply=yply.alias('yply')\n",
    "\n",
    "df_plyr=xply.join(yply,xply.id==yply.id).select(\"xply.id\",\"player_fifa_api_id\",\"player_api_id\",\"date\",\"overall_rating\", \\\n",
    "                                               \"potential\",\"stamina\",\"strength\")"
   ]
  },
  {
   "cell_type": "markdown",
   "metadata": {},
   "source": [
    "# Checking dataframes for Null Values\n"
   ]
  },
  {
   "cell_type": "code",
   "execution_count": 10,
   "metadata": {},
   "outputs": [
    {
     "name": "stdout",
     "output_type": "stream",
     "text": [
      "+---+------------------+-------------+----+--------------+---------+-------+--------+\n",
      "| id|player_fifa_api_id|player_api_id|date|overall_rating|potential|stamina|strength|\n",
      "+---+------------------+-------------+----+--------------+---------+-------+--------+\n",
      "|  0|                 0|            0|   0|           836|      836|    836|     836|\n",
      "+---+------------------+-------------+----+--------------+---------+-------+--------+\n",
      "\n"
     ]
    }
   ],
   "source": [
    "\"\"\"\n",
    "checking nan values in the player attributes table\n",
    "\"\"\"\n",
    "\n",
    "df_plyr.select([count(when(isnan(c), c)).alias(c) for c in df_plyr.columns]).show()\n"
   ]
  },
  {
   "cell_type": "code",
   "execution_count": 11,
   "metadata": {},
   "outputs": [
    {
     "name": "stdout",
     "output_type": "stream",
     "text": [
      "+---+-------------+-----------+------------------+--------+------+------+\n",
      "| id|player_api_id|player_name|player_fifa_api_id|birthday|height|weight|\n",
      "+---+-------------+-----------+------------------+--------+------+------+\n",
      "|  0|            0|          0|                 0|       0|     0|     0|\n",
      "+---+-------------+-----------+------------------+--------+------+------+\n",
      "\n"
     ]
    }
   ],
   "source": [
    "plyr.select([count(when(isnan(c), c)).alias(c) for c in plyr.columns]).show()"
   ]
  },
  {
   "cell_type": "code",
   "execution_count": 12,
   "metadata": {},
   "outputs": [
    {
     "name": "stdout",
     "output_type": "stream",
     "text": [
      "+---+----+\n",
      "| id|name|\n",
      "+---+----+\n",
      "|  0|   0|\n",
      "+---+----+\n",
      "\n"
     ]
    }
   ],
   "source": [
    "coun.select([count(when(isnan(c), c)).alias(c) for c in coun.columns]).show()"
   ]
  },
  {
   "cell_type": "code",
   "execution_count": null,
   "metadata": {},
   "outputs": [],
   "source": [
    "mat.select([count(when(isnan(c), c)).alias(c) for c in mat.columns]).show()"
   ]
  }
 ],
 "metadata": {
  "kernelspec": {
   "display_name": "Python 3",
   "language": "python",
   "name": "python3"
  },
  "language_info": {
   "codemirror_mode": {
    "name": "ipython",
    "version": 3
   },
   "file_extension": ".py",
   "mimetype": "text/x-python",
   "name": "python",
   "nbconvert_exporter": "python",
   "pygments_lexer": "ipython3",
   "version": "3.7.6"
  }
 },
 "nbformat": 4,
 "nbformat_minor": 4
<<<<<<< HEAD
}
=======
}
>>>>>>> 6bbcdce4e8d6e1f0ebdace905f0ee86da919a2b5
