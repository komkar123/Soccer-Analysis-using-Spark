{
 "cells": [
  {
   "cell_type": "code",
   "execution_count": 29,
   "metadata": {},
   "outputs": [],
   "source": [
    "from pyspark.sql import SparkSession\n",
    "import sqlite3\n",
    "import pandas as pd\n",
    "import numpy as np\n",
    "from pyspark.sql.functions import *\n",
    "import boto3\n",
    "import io"
   ]
  },
  {
   "cell_type": "code",
   "execution_count": 30,
   "metadata": {},
   "outputs": [],
   "source": [
    "\"\"\"\n",
    "Connecting to SQLite database\n",
    "\"\"\"\n",
    "\n",
    "conn = sqlite3.connect(\"database.sqlite\")\n",
    "cur = conn.cursor()"
   ]
  },
  {
   "cell_type": "code",
   "execution_count": 31,
   "metadata": {},
   "outputs": [],
   "source": [
    "\"\"\"\n",
    "Reading tables and storing them into pandas dataframe\n",
    "\"\"\"\n",
    "\n",
    "ply_attr=pd.read_sql_query(\"Select * from Player_Attributes\",conn)\n",
    "ply=pd.read_sql_query(\"Select * from Player\",conn)\n",
    "country=pd.read_sql_query(\"Select * from Country\",conn)\n",
    "league=pd.read_sql_query(\"Select * from League\",conn)\n",
    "match=pd.read_sql_query(\"Select * from Match\",conn)\n",
    "team=pd.read_sql_query(\"Select * from Team\",conn)\n",
    "team_attr=pd.read_sql_query(\"Select * from Team_Attributes\",conn)"
   ]
  },
  {
   "cell_type": "code",
   "execution_count": 32,
   "metadata": {},
   "outputs": [
    {
     "data": {
      "text/plain": [
       "{'ResponseMetadata': {'RequestId': '16C29363C1982E68',\n",
       "  'HostId': 'yWlrxXGybB9wqk6PtApqmrMnPEqiiIND9Z4uBltiQBW9/ycTvrnqjEOOVIgXGvaoNLnp3Om/yAI=',\n",
       "  'HTTPStatusCode': 200,\n",
       "  'HTTPHeaders': {'x-amz-id-2': 'yWlrxXGybB9wqk6PtApqmrMnPEqiiIND9Z4uBltiQBW9/ycTvrnqjEOOVIgXGvaoNLnp3Om/yAI=',\n",
       "   'x-amz-request-id': '16C29363C1982E68',\n",
       "   'date': 'Sun, 02 Aug 2020 18:06:56 GMT',\n",
       "   'etag': '\"eee40b20cb66f97fd55b683191500596\"',\n",
       "   'content-length': '0',\n",
       "   'server': 'AmazonS3'},\n",
       "  'RetryAttempts': 0},\n",
       " 'ETag': '\"eee40b20cb66f97fd55b683191500596\"'}"
      ]
     },
     "execution_count": 32,
     "metadata": {},
     "output_type": "execute_result"
    }
   ],
   "source": [
    "bucket = 'kalange-european-soccer' # already created on S3\n",
    "csv_buffer = io.StringIO()\n",
    "ply_attr.to_csv(csv_buffer)\n",
    "s3_resource = boto3.resource('s3')\n",
    "s3_resource.Object(bucket, 'ply_attr.csv').put(Body=csv_buffer.getvalue())"
   ]
  },
  {
   "cell_type": "code",
   "execution_count": 33,
   "metadata": {},
   "outputs": [
    {
     "data": {
      "text/plain": [
       "{'ResponseMetadata': {'RequestId': '1D44A7FB0F6BFCA1',\n",
       "  'HostId': 'uOrh721jYkzVBvvXt9oc18jW0E+JsdscO+RR1UxaoBIfJGYgIkBaIdbk3NnpGUh2tw17fFcfOPo=',\n",
       "  'HTTPStatusCode': 200,\n",
       "  'HTTPHeaders': {'x-amz-id-2': 'uOrh721jYkzVBvvXt9oc18jW0E+JsdscO+RR1UxaoBIfJGYgIkBaIdbk3NnpGUh2tw17fFcfOPo=',\n",
       "   'x-amz-request-id': '1D44A7FB0F6BFCA1',\n",
       "   'date': 'Sun, 02 Aug 2020 18:09:28 GMT',\n",
       "   'etag': '\"ab54887d8895c67803940ba68a0410ab\"',\n",
       "   'content-length': '0',\n",
       "   'server': 'AmazonS3'},\n",
       "  'RetryAttempts': 0},\n",
       " 'ETag': '\"ab54887d8895c67803940ba68a0410ab\"'}"
      ]
     },
     "execution_count": 33,
     "metadata": {},
     "output_type": "execute_result"
    }
   ],
   "source": [
    "csv_buffer = io.StringIO()\n",
    "ply.to_csv(csv_buffer)\n",
    "s3_resource.Object(bucket, 'ply.csv').put(Body=csv_buffer.getvalue())"
   ]
  },
  {
   "cell_type": "code",
   "execution_count": 34,
   "metadata": {},
   "outputs": [
    {
     "data": {
      "text/plain": [
       "{'ResponseMetadata': {'RequestId': '05F830E29ADE854B',\n",
       "  'HostId': 'ICel0MBNpy1a2hwSf3crLLfg3p+WSNkYOkUAMS62YyoZ5cx0vmLc62HgZvBFDhF2onRXbINQl3Y=',\n",
       "  'HTTPStatusCode': 200,\n",
       "  'HTTPHeaders': {'x-amz-id-2': 'ICel0MBNpy1a2hwSf3crLLfg3p+WSNkYOkUAMS62YyoZ5cx0vmLc62HgZvBFDhF2onRXbINQl3Y=',\n",
       "   'x-amz-request-id': '05F830E29ADE854B',\n",
       "   'date': 'Sun, 02 Aug 2020 18:10:03 GMT',\n",
       "   'etag': '\"464eda658146fea44210dcf0cbf14759\"',\n",
       "   'content-length': '0',\n",
       "   'server': 'AmazonS3'},\n",
       "  'RetryAttempts': 0},\n",
       " 'ETag': '\"464eda658146fea44210dcf0cbf14759\"'}"
      ]
     },
     "execution_count": 34,
     "metadata": {},
     "output_type": "execute_result"
    }
   ],
   "source": [
    "csv_buffer = io.StringIO()\n",
    "country.to_csv(csv_buffer)\n",
    "s3_resource.Object(bucket, 'country.csv').put(Body=csv_buffer.getvalue())"
   ]
  },
  {
   "cell_type": "code",
   "execution_count": 35,
   "metadata": {},
   "outputs": [
    {
     "data": {
      "text/plain": [
       "{'ResponseMetadata': {'RequestId': '1C4FBFB5E197F4B4',\n",
       "  'HostId': 'NmlJ8bMsYPu54bS9Q/5GxSDGoYFFFqgywL01GOE5lP5zqXRTWVQl1+iBJ9X+OtSldMo5qquYs9s=',\n",
       "  'HTTPStatusCode': 200,\n",
       "  'HTTPHeaders': {'x-amz-id-2': 'NmlJ8bMsYPu54bS9Q/5GxSDGoYFFFqgywL01GOE5lP5zqXRTWVQl1+iBJ9X+OtSldMo5qquYs9s=',\n",
       "   'x-amz-request-id': '1C4FBFB5E197F4B4',\n",
       "   'date': 'Sun, 02 Aug 2020 18:10:13 GMT',\n",
       "   'etag': '\"95c590568592aaf18fcfdc24a405b31c\"',\n",
       "   'content-length': '0',\n",
       "   'server': 'AmazonS3'},\n",
       "  'RetryAttempts': 0},\n",
       " 'ETag': '\"95c590568592aaf18fcfdc24a405b31c\"'}"
      ]
     },
     "execution_count": 35,
     "metadata": {},
     "output_type": "execute_result"
    }
   ],
   "source": [
    "csv_buffer = io.StringIO()\n",
    "league.to_csv(csv_buffer)\n",
    "s3_resource.Object(bucket, 'league.csv').put(Body=csv_buffer.getvalue())"
   ]
  },
  {
   "cell_type": "code",
   "execution_count": 36,
   "metadata": {},
   "outputs": [
    {
     "data": {
      "text/plain": [
       "{'ResponseMetadata': {'RequestId': '975F3E7D193A00D8',\n",
       "  'HostId': 'Vjpg2H23Jc7/pJuTqPZ/B4JUotdD6rscKJc1iIDk/IC76wxr70WX/7eoS+Gc9bvDkdZ7XsPk7e8=',\n",
       "  'HTTPStatusCode': 200,\n",
       "  'HTTPHeaders': {'x-amz-id-2': 'Vjpg2H23Jc7/pJuTqPZ/B4JUotdD6rscKJc1iIDk/IC76wxr70WX/7eoS+Gc9bvDkdZ7XsPk7e8=',\n",
       "   'x-amz-request-id': '975F3E7D193A00D8',\n",
       "   'date': 'Sun, 02 Aug 2020 18:10:21 GMT',\n",
       "   'etag': '\"9d8ff55d197eca78457318b8f5948327\"',\n",
       "   'content-length': '0',\n",
       "   'server': 'AmazonS3'},\n",
       "  'RetryAttempts': 0},\n",
       " 'ETag': '\"9d8ff55d197eca78457318b8f5948327\"'}"
      ]
     },
     "execution_count": 36,
     "metadata": {},
     "output_type": "execute_result"
    }
   ],
   "source": [
    "csv_buffer = io.StringIO()\n",
    "team.to_csv(csv_buffer)\n",
    "s3_resource.Object(bucket, 'team.csv').put(Body=csv_buffer.getvalue())"
   ]
  },
  {
   "cell_type": "code",
   "execution_count": 37,
   "metadata": {},
   "outputs": [
    {
     "data": {
      "text/plain": [
       "{'ResponseMetadata': {'RequestId': '73568CDF472AA8FF',\n",
       "  'HostId': '5Tl+8tWT+CBG6lIyN+RjtCuGqUQmPSSTpF7Gh4SGBI1VI6Hlz92BxXbhe8lNt9ZMVLxQJOZDmsA=',\n",
       "  'HTTPStatusCode': 200,\n",
       "  'HTTPHeaders': {'x-amz-id-2': '5Tl+8tWT+CBG6lIyN+RjtCuGqUQmPSSTpF7Gh4SGBI1VI6Hlz92BxXbhe8lNt9ZMVLxQJOZDmsA=',\n",
       "   'x-amz-request-id': '73568CDF472AA8FF',\n",
       "   'date': 'Sun, 02 Aug 2020 18:10:26 GMT',\n",
       "   'etag': '\"67f9b4b2ffa44fc3b8b1dca65a28ff6c\"',\n",
       "   'content-length': '0',\n",
       "   'server': 'AmazonS3'},\n",
       "  'RetryAttempts': 0},\n",
       " 'ETag': '\"67f9b4b2ffa44fc3b8b1dca65a28ff6c\"'}"
      ]
     },
     "execution_count": 37,
     "metadata": {},
     "output_type": "execute_result"
    }
   ],
   "source": [
    "csv_buffer = io.StringIO()\n",
    "team_attr.to_csv(csv_buffer)\n",
    "s3_resource.Object(bucket, 'team_attr.csv').put(Body=csv_buffer.getvalue())"
   ]
  },
  {
   "cell_type": "code",
   "execution_count": 38,
   "metadata": {},
   "outputs": [
    {
     "data": {
      "text/plain": [
       "{'ResponseMetadata': {'RequestId': '8EEC2CE0A73FA5C3',\n",
       "  'HostId': 'MQgssyNMKuGTtZ6AWy23htTMO/8dru8BkREOoqmhXf/2vuaFaTwcAGhESub042YW7g256PikaOw=',\n",
       "  'HTTPStatusCode': 200,\n",
       "  'HTTPHeaders': {'x-amz-id-2': 'MQgssyNMKuGTtZ6AWy23htTMO/8dru8BkREOoqmhXf/2vuaFaTwcAGhESub042YW7g256PikaOw=',\n",
       "   'x-amz-request-id': '8EEC2CE0A73FA5C3',\n",
       "   'date': 'Sun, 02 Aug 2020 19:26:29 GMT',\n",
       "   'etag': '\"e914f44cad1c408b3dfd8163b43350df\"',\n",
       "   'content-length': '0',\n",
       "   'server': 'AmazonS3',\n",
       "   'connection': 'close'},\n",
       "  'RetryAttempts': 0},\n",
       " 'ETag': '\"e914f44cad1c408b3dfd8163b43350df\"'}"
      ]
     },
     "execution_count": 38,
     "metadata": {},
     "output_type": "execute_result"
    }
   ],
   "source": [
    "csv_buffer = io.StringIO()\n",
    "match.to_csv(csv_buffer)\n",
    "s3_resource.Object(bucket, 'match.csv').put(Body=csv_buffer.getvalue())"
   ]
  },
  {
   "cell_type": "code",
   "execution_count": 4,
   "metadata": {},
   "outputs": [
    {
     "data": {
      "text/html": [
       "<div>\n",
       "<style scoped>\n",
       "    .dataframe tbody tr th:only-of-type {\n",
       "        vertical-align: middle;\n",
       "    }\n",
       "\n",
       "    .dataframe tbody tr th {\n",
       "        vertical-align: top;\n",
       "    }\n",
       "\n",
       "    .dataframe thead th {\n",
       "        text-align: right;\n",
       "    }\n",
       "</style>\n",
       "<table border=\"1\" class=\"dataframe\">\n",
       "  <thead>\n",
       "    <tr style=\"text-align: right;\">\n",
       "      <th></th>\n",
       "      <th>id</th>\n",
       "      <th>country_id</th>\n",
       "      <th>league_id</th>\n",
       "      <th>season</th>\n",
       "      <th>stage</th>\n",
       "      <th>date</th>\n",
       "      <th>match_api_id</th>\n",
       "      <th>home_team_api_id</th>\n",
       "      <th>away_team_api_id</th>\n",
       "      <th>home_team_goal</th>\n",
       "      <th>...</th>\n",
       "      <th>SJA</th>\n",
       "      <th>VCH</th>\n",
       "      <th>VCD</th>\n",
       "      <th>VCA</th>\n",
       "      <th>GBH</th>\n",
       "      <th>GBD</th>\n",
       "      <th>GBA</th>\n",
       "      <th>BSH</th>\n",
       "      <th>BSD</th>\n",
       "      <th>BSA</th>\n",
       "    </tr>\n",
       "  </thead>\n",
       "  <tbody>\n",
       "    <tr>\n",
       "      <th>0</th>\n",
       "      <td>1</td>\n",
       "      <td>1</td>\n",
       "      <td>1</td>\n",
       "      <td>2008/2009</td>\n",
       "      <td>1</td>\n",
       "      <td>2008-08-17 00:00:00</td>\n",
       "      <td>492473</td>\n",
       "      <td>9987</td>\n",
       "      <td>9993</td>\n",
       "      <td>1</td>\n",
       "      <td>...</td>\n",
       "      <td>4.00</td>\n",
       "      <td>1.65</td>\n",
       "      <td>3.40</td>\n",
       "      <td>4.50</td>\n",
       "      <td>1.78</td>\n",
       "      <td>3.25</td>\n",
       "      <td>4.00</td>\n",
       "      <td>1.73</td>\n",
       "      <td>3.40</td>\n",
       "      <td>4.20</td>\n",
       "    </tr>\n",
       "    <tr>\n",
       "      <th>1</th>\n",
       "      <td>2</td>\n",
       "      <td>1</td>\n",
       "      <td>1</td>\n",
       "      <td>2008/2009</td>\n",
       "      <td>1</td>\n",
       "      <td>2008-08-16 00:00:00</td>\n",
       "      <td>492474</td>\n",
       "      <td>10000</td>\n",
       "      <td>9994</td>\n",
       "      <td>0</td>\n",
       "      <td>...</td>\n",
       "      <td>3.80</td>\n",
       "      <td>2.00</td>\n",
       "      <td>3.25</td>\n",
       "      <td>3.25</td>\n",
       "      <td>1.85</td>\n",
       "      <td>3.25</td>\n",
       "      <td>3.75</td>\n",
       "      <td>1.91</td>\n",
       "      <td>3.25</td>\n",
       "      <td>3.60</td>\n",
       "    </tr>\n",
       "    <tr>\n",
       "      <th>2</th>\n",
       "      <td>3</td>\n",
       "      <td>1</td>\n",
       "      <td>1</td>\n",
       "      <td>2008/2009</td>\n",
       "      <td>1</td>\n",
       "      <td>2008-08-16 00:00:00</td>\n",
       "      <td>492475</td>\n",
       "      <td>9984</td>\n",
       "      <td>8635</td>\n",
       "      <td>0</td>\n",
       "      <td>...</td>\n",
       "      <td>2.50</td>\n",
       "      <td>2.35</td>\n",
       "      <td>3.25</td>\n",
       "      <td>2.65</td>\n",
       "      <td>2.50</td>\n",
       "      <td>3.20</td>\n",
       "      <td>2.50</td>\n",
       "      <td>2.30</td>\n",
       "      <td>3.20</td>\n",
       "      <td>2.75</td>\n",
       "    </tr>\n",
       "    <tr>\n",
       "      <th>3</th>\n",
       "      <td>4</td>\n",
       "      <td>1</td>\n",
       "      <td>1</td>\n",
       "      <td>2008/2009</td>\n",
       "      <td>1</td>\n",
       "      <td>2008-08-17 00:00:00</td>\n",
       "      <td>492476</td>\n",
       "      <td>9991</td>\n",
       "      <td>9998</td>\n",
       "      <td>5</td>\n",
       "      <td>...</td>\n",
       "      <td>7.50</td>\n",
       "      <td>1.45</td>\n",
       "      <td>3.75</td>\n",
       "      <td>6.50</td>\n",
       "      <td>1.50</td>\n",
       "      <td>3.75</td>\n",
       "      <td>5.50</td>\n",
       "      <td>1.44</td>\n",
       "      <td>3.75</td>\n",
       "      <td>6.50</td>\n",
       "    </tr>\n",
       "    <tr>\n",
       "      <th>4</th>\n",
       "      <td>5</td>\n",
       "      <td>1</td>\n",
       "      <td>1</td>\n",
       "      <td>2008/2009</td>\n",
       "      <td>1</td>\n",
       "      <td>2008-08-16 00:00:00</td>\n",
       "      <td>492477</td>\n",
       "      <td>7947</td>\n",
       "      <td>9985</td>\n",
       "      <td>1</td>\n",
       "      <td>...</td>\n",
       "      <td>1.73</td>\n",
       "      <td>4.50</td>\n",
       "      <td>3.40</td>\n",
       "      <td>1.65</td>\n",
       "      <td>4.50</td>\n",
       "      <td>3.50</td>\n",
       "      <td>1.65</td>\n",
       "      <td>4.75</td>\n",
       "      <td>3.30</td>\n",
       "      <td>1.67</td>\n",
       "    </tr>\n",
       "  </tbody>\n",
       "</table>\n",
       "<p>5 rows × 115 columns</p>\n",
       "</div>"
      ],
      "text/plain": [
       "   id  country_id  league_id     season  stage                 date  \\\n",
       "0   1           1          1  2008/2009      1  2008-08-17 00:00:00   \n",
       "1   2           1          1  2008/2009      1  2008-08-16 00:00:00   \n",
       "2   3           1          1  2008/2009      1  2008-08-16 00:00:00   \n",
       "3   4           1          1  2008/2009      1  2008-08-17 00:00:00   \n",
       "4   5           1          1  2008/2009      1  2008-08-16 00:00:00   \n",
       "\n",
       "   match_api_id  home_team_api_id  away_team_api_id  home_team_goal  ...  \\\n",
       "0        492473              9987              9993               1  ...   \n",
       "1        492474             10000              9994               0  ...   \n",
       "2        492475              9984              8635               0  ...   \n",
       "3        492476              9991              9998               5  ...   \n",
       "4        492477              7947              9985               1  ...   \n",
       "\n",
       "    SJA   VCH   VCD   VCA   GBH   GBD   GBA   BSH   BSD   BSA  \n",
       "0  4.00  1.65  3.40  4.50  1.78  3.25  4.00  1.73  3.40  4.20  \n",
       "1  3.80  2.00  3.25  3.25  1.85  3.25  3.75  1.91  3.25  3.60  \n",
       "2  2.50  2.35  3.25  2.65  2.50  3.20  2.50  2.30  3.20  2.75  \n",
       "3  7.50  1.45  3.75  6.50  1.50  3.75  5.50  1.44  3.75  6.50  \n",
       "4  1.73  4.50  3.40  1.65  4.50  3.50  1.65  4.75  3.30  1.67  \n",
       "\n",
       "[5 rows x 115 columns]"
      ]
     },
     "execution_count": 4,
     "metadata": {},
     "output_type": "execute_result"
    }
   ],
   "source": [
    " match.head()"
   ]
  },
  {
   "cell_type": "code",
   "execution_count": 5,
   "metadata": {},
   "outputs": [],
   "source": [
    "spark = SparkSession \\\n",
    "    .builder \\\n",
    "    .appName(\"Soccernew\") \\\n",
    "    .getOrCreate()"
   ]
  },
  {
   "cell_type": "code",
   "execution_count": 6,
   "metadata": {},
   "outputs": [],
   "source": [
    "plyr_attr=spark.createDataFrame(ply_attr)\n",
    "plyr=spark.createDataFrame(ply)\n",
    "coun=spark.createDataFrame(country)\n",
    "leag=spark.createDataFrame(league)\n",
    "mat=spark.createDataFrame(match)\n",
    "teams=spark.createDataFrame(team)\n",
    "team_attrs=spark.createDataFrame(team_attr)"
   ]
  },
  {
   "cell_type": "code",
   "execution_count": 8,
   "metadata": {},
   "outputs": [
    {
     "name": "stdout",
     "output_type": "stream",
     "text": [
      "root\n",
      " |-- id: long (nullable = true)\n",
      " |-- country_id: long (nullable = true)\n",
      " |-- league_id: long (nullable = true)\n",
      " |-- season: string (nullable = true)\n",
      " |-- stage: long (nullable = true)\n",
      " |-- date: string (nullable = true)\n",
      " |-- match_api_id: long (nullable = true)\n",
      " |-- home_team_api_id: long (nullable = true)\n",
      " |-- away_team_api_id: long (nullable = true)\n",
      " |-- home_team_goal: long (nullable = true)\n",
      " |-- away_team_goal: long (nullable = true)\n",
      " |-- home_player_X1: double (nullable = true)\n",
      " |-- home_player_X2: double (nullable = true)\n",
      " |-- home_player_X3: double (nullable = true)\n",
      " |-- home_player_X4: double (nullable = true)\n",
      " |-- home_player_X5: double (nullable = true)\n",
      " |-- home_player_X6: double (nullable = true)\n",
      " |-- home_player_X7: double (nullable = true)\n",
      " |-- home_player_X8: double (nullable = true)\n",
      " |-- home_player_X9: double (nullable = true)\n",
      " |-- home_player_X10: double (nullable = true)\n",
      " |-- home_player_X11: double (nullable = true)\n",
      " |-- away_player_X1: double (nullable = true)\n",
      " |-- away_player_X2: double (nullable = true)\n",
      " |-- away_player_X3: double (nullable = true)\n",
      " |-- away_player_X4: double (nullable = true)\n",
      " |-- away_player_X5: double (nullable = true)\n",
      " |-- away_player_X6: double (nullable = true)\n",
      " |-- away_player_X7: double (nullable = true)\n",
      " |-- away_player_X8: double (nullable = true)\n",
      " |-- away_player_X9: double (nullable = true)\n",
      " |-- away_player_X10: double (nullable = true)\n",
      " |-- away_player_X11: double (nullable = true)\n",
      " |-- home_player_Y1: double (nullable = true)\n",
      " |-- home_player_Y2: double (nullable = true)\n",
      " |-- home_player_Y3: double (nullable = true)\n",
      " |-- home_player_Y4: double (nullable = true)\n",
      " |-- home_player_Y5: double (nullable = true)\n",
      " |-- home_player_Y6: double (nullable = true)\n",
      " |-- home_player_Y7: double (nullable = true)\n",
      " |-- home_player_Y8: double (nullable = true)\n",
      " |-- home_player_Y9: double (nullable = true)\n",
      " |-- home_player_Y10: double (nullable = true)\n",
      " |-- home_player_Y11: double (nullable = true)\n",
      " |-- away_player_Y1: double (nullable = true)\n",
      " |-- away_player_Y2: double (nullable = true)\n",
      " |-- away_player_Y3: double (nullable = true)\n",
      " |-- away_player_Y4: double (nullable = true)\n",
      " |-- away_player_Y5: double (nullable = true)\n",
      " |-- away_player_Y6: double (nullable = true)\n",
      " |-- away_player_Y7: double (nullable = true)\n",
      " |-- away_player_Y8: double (nullable = true)\n",
      " |-- away_player_Y9: double (nullable = true)\n",
      " |-- away_player_Y10: double (nullable = true)\n",
      " |-- away_player_Y11: double (nullable = true)\n",
      " |-- home_player_1: double (nullable = true)\n",
      " |-- home_player_2: double (nullable = true)\n",
      " |-- home_player_3: double (nullable = true)\n",
      " |-- home_player_4: double (nullable = true)\n",
      " |-- home_player_5: double (nullable = true)\n",
      " |-- home_player_6: double (nullable = true)\n",
      " |-- home_player_7: double (nullable = true)\n",
      " |-- home_player_8: double (nullable = true)\n",
      " |-- home_player_9: double (nullable = true)\n",
      " |-- home_player_10: double (nullable = true)\n",
      " |-- home_player_11: double (nullable = true)\n",
      " |-- away_player_1: double (nullable = true)\n",
      " |-- away_player_2: double (nullable = true)\n",
      " |-- away_player_3: double (nullable = true)\n",
      " |-- away_player_4: double (nullable = true)\n",
      " |-- away_player_5: double (nullable = true)\n",
      " |-- away_player_6: double (nullable = true)\n",
      " |-- away_player_7: double (nullable = true)\n",
      " |-- away_player_8: double (nullable = true)\n",
      " |-- away_player_9: double (nullable = true)\n",
      " |-- away_player_10: double (nullable = true)\n",
      " |-- away_player_11: double (nullable = true)\n",
      " |-- goal: string (nullable = true)\n",
      " |-- shoton: string (nullable = true)\n",
      " |-- shotoff: string (nullable = true)\n",
      " |-- foulcommit: string (nullable = true)\n",
      " |-- card: string (nullable = true)\n",
      " |-- cross: string (nullable = true)\n",
      " |-- corner: string (nullable = true)\n",
      " |-- possession: string (nullable = true)\n",
      " |-- B365H: double (nullable = true)\n",
      " |-- B365D: double (nullable = true)\n",
      " |-- B365A: double (nullable = true)\n",
      " |-- BWH: double (nullable = true)\n",
      " |-- BWD: double (nullable = true)\n",
      " |-- BWA: double (nullable = true)\n",
      " |-- IWH: double (nullable = true)\n",
      " |-- IWD: double (nullable = true)\n",
      " |-- IWA: double (nullable = true)\n",
      " |-- LBH: double (nullable = true)\n",
      " |-- LBD: double (nullable = true)\n",
      " |-- LBA: double (nullable = true)\n",
      " |-- PSH: double (nullable = true)\n",
      " |-- PSD: double (nullable = true)\n",
      " |-- PSA: double (nullable = true)\n",
      " |-- WHH: double (nullable = true)\n",
      " |-- WHD: double (nullable = true)\n",
      " |-- WHA: double (nullable = true)\n",
      " |-- SJH: double (nullable = true)\n",
      " |-- SJD: double (nullable = true)\n",
      " |-- SJA: double (nullable = true)\n",
      " |-- VCH: double (nullable = true)\n",
      " |-- VCD: double (nullable = true)\n",
      " |-- VCA: double (nullable = true)\n",
      " |-- GBH: double (nullable = true)\n",
      " |-- GBD: double (nullable = true)\n",
      " |-- GBA: double (nullable = true)\n",
      " |-- BSH: double (nullable = true)\n",
      " |-- BSD: double (nullable = true)\n",
      " |-- BSA: double (nullable = true)\n",
      "\n"
     ]
    }
   ],
   "source": [
    "mat.printSchema()"
   ]
  },
  {
   "cell_type": "code",
   "execution_count": 6,
   "metadata": {},
   "outputs": [],
   "source": [
    "xply=plyr_attr.select(plyr_attr.columns[:6])\n",
    "yply=plyr_attr.select(['id','stamina','strength'])\n",
    "\n",
    "xply=xply.alias('xply')\n",
    "yply=yply.alias('yply')\n",
    "\n",
    "df_plyr=xply.join(yply,xply.id==yply.id).select(\"xply.id\",\"player_fifa_api_id\",\"player_api_id\",\"date\",\"overall_rating\", \\\n",
    "                                               \"potential\",\"stamina\",\"strength\")"
   ]
  },
  {
   "cell_type": "markdown",
   "metadata": {},
   "source": [
    "# Checking dataframes for Null Values\n"
   ]
  },
  {
   "cell_type": "code",
   "execution_count": 7,
   "metadata": {},
   "outputs": [
    {
     "name": "stdout",
     "output_type": "stream",
     "text": [
      "+---+------------------+-------------+----+--------------+---------+-------+--------+\n",
      "| id|player_fifa_api_id|player_api_id|date|overall_rating|potential|stamina|strength|\n",
      "+---+------------------+-------------+----+--------------+---------+-------+--------+\n",
      "|  0|                 0|            0|   0|           836|      836|    836|     836|\n",
      "+---+------------------+-------------+----+--------------+---------+-------+--------+\n",
      "\n"
     ]
    }
   ],
   "source": [
    "\"\"\"\n",
    "checking nan values in the player attributes table\n",
    "\"\"\"\n",
    "\n",
    "df_plyr.select([count(when(isnan(c), c)).alias(c) for c in df_plyr.columns]).show()\n"
   ]
  },
  {
   "cell_type": "code",
   "execution_count": 8,
   "metadata": {},
   "outputs": [
    {
     "name": "stdout",
     "output_type": "stream",
     "text": [
      "+---+-------------+-----------+------------------+--------+------+------+\n",
      "| id|player_api_id|player_name|player_fifa_api_id|birthday|height|weight|\n",
      "+---+-------------+-----------+------------------+--------+------+------+\n",
      "|  0|            0|          0|                 0|       0|     0|     0|\n",
      "+---+-------------+-----------+------------------+--------+------+------+\n",
      "\n"
     ]
    }
   ],
   "source": [
    "plyr.select([count(when(isnan(c), c)).alias(c) for c in plyr.columns]).show()"
   ]
  },
  {
   "cell_type": "code",
   "execution_count": 12,
   "metadata": {},
   "outputs": [
    {
     "name": "stdout",
     "output_type": "stream",
     "text": [
      "+---+----+\n",
      "| id|name|\n",
      "+---+----+\n",
      "|  0|   0|\n",
      "+---+----+\n",
      "\n"
     ]
    }
   ],
   "source": [
    "coun.select([count(when(isnan(c), c)).alias(c) for c in coun.columns]).show()"
   ]
  },
  {
   "cell_type": "code",
   "execution_count": 8,
   "metadata": {},
   "outputs": [],
   "source": [
    "mat=mat.select(['id','country_id','league_id','season','stage','date','match_api_id','home_team_api_id','away_team_api_id',\\\n",
    "                'home_team_goal','away_team_goal'])"
   ]
  },
  {
   "cell_type": "code",
   "execution_count": 9,
   "metadata": {},
   "outputs": [
    {
     "name": "stdout",
     "output_type": "stream",
     "text": [
      "root\n",
      " |-- id: long (nullable = true)\n",
      " |-- country_id: long (nullable = true)\n",
      " |-- league_id: long (nullable = true)\n",
      " |-- season: string (nullable = true)\n",
      " |-- stage: long (nullable = true)\n",
      " |-- date: string (nullable = true)\n",
      " |-- match_api_id: long (nullable = true)\n",
      " |-- home_team_api_id: long (nullable = true)\n",
      " |-- away_team_api_id: long (nullable = true)\n",
      " |-- home_team_goal: long (nullable = true)\n",
      " |-- away_team_goal: long (nullable = true)\n",
      "\n"
     ]
    }
   ],
   "source": [
    "mat.printSchema()"
   ]
  },
  {
   "cell_type": "code",
   "execution_count": 10,
   "metadata": {},
   "outputs": [
    {
     "name": "stdout",
     "output_type": "stream",
     "text": [
      "+---+----------+---------+---------+-----+-------------------+------------+----------------+----------------+--------------+--------------+\n",
      "| id|country_id|league_id|   season|stage|               date|match_api_id|home_team_api_id|away_team_api_id|home_team_goal|away_team_goal|\n",
      "+---+----------+---------+---------+-----+-------------------+------------+----------------+----------------+--------------+--------------+\n",
      "|  1|         1|        1|2008/2009|    1|2008-08-17 00:00:00|      492473|            9987|            9993|             1|             1|\n",
      "|  2|         1|        1|2008/2009|    1|2008-08-16 00:00:00|      492474|           10000|            9994|             0|             0|\n",
      "+---+----------+---------+---------+-----+-------------------+------------+----------------+----------------+--------------+--------------+\n",
      "only showing top 2 rows\n",
      "\n"
     ]
    }
   ],
   "source": [
    "mat.show(n=2)"
   ]
  },
  {
   "cell_type": "code",
   "execution_count": null,
   "metadata": {},
   "outputs": [],
   "source": [
    "mat.select([count(when(isnan(c), c)).alias(c) for c in mat.columns]).show(n=1)"
   ]
  }
 ],
 "metadata": {
  "kernelspec": {
   "display_name": "Python 3",
   "language": "python",
   "name": "python3"
  }
 },
 "nbformat": 4,
 "nbformat_minor": 4
}
